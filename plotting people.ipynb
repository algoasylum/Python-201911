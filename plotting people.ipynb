{
 "cells": [
  {
   "cell_type": "markdown",
   "metadata": {},
   "source": [
    "This is a small demo of how to do a scatter plot of points defined by $x$ and $y$ co-ordinates\n",
    "\n",
    "The context is plotting the positions of two groups of people -- normal (np) and infected (inf)\n",
    "\n",
    "Try varying the number of people (of both types) being created to see the changing density"
   ]
  },
  {
   "cell_type": "code",
   "execution_count": 2,
   "metadata": {},
   "outputs": [],
   "source": [
    "import matplotlib.pyplot as plt\n",
    "import random"
   ]
  },
  {
   "cell_type": "code",
   "execution_count": 3,
   "metadata": {},
   "outputs": [
    {
     "data": {
      "image/png": "[encoded data removed]",
      "text/plain": [
       "<Figure size 432x288 with 1 Axes>"
      ]
     },
     "metadata": {},
     "output_type": "display_data"
    }
   ],
   "source": [
    "np_x = []\n",
    "np_y = []\n",
    "inf_x = []\n",
    "inf_y = []\n",
    "for i in range(400):\n",
    "    np_x.append(random.randint(0,10))\n",
    "    np_y.append(random.randint(0,10))\n",
    "    \n",
    "for i in range(2):\n",
    "    inf_x.append(random.randint(0,10))\n",
    "    inf_y.append(random.randint(0,10))\n",
    "plt.scatter(np_x, np_y, marker='o', color='green')\n",
    "plt.scatter(inf_x, inf_y, marker='*', color='red')\n",
    "plt.show()"
   ]
  },
  {
   "cell_type": "code",
   "execution_count": 4,
   "metadata": {},
   "outputs": [
    {
     "data": {
      "image/png": "[encoded data removed]",
      "text/plain": [
       "<Figure size 432x288 with 1 Axes>"
      ]
     },
     "metadata": {},
     "output_type": "display_data"
    }
   ],
   "source": [
    "np_x = []\n",
    "np_y = []\n",
    "inf_x = []\n",
    "inf_y = []\n",
    "for i in range(80):\n",
    "    np_x.append(random.random())\n",
    "    np_y.append(random.random())\n",
    "    \n",
    "for i in range(2):\n",
    "    inf_x.append(random.random())\n",
    "    inf_y.append(random.random())\n",
    "plt.scatter(np_x, np_y, marker='o', color='green')\n",
    "plt.scatter(inf_x, inf_y, marker='*', color='red')\n",
    "plt.show()"
   ]
  },
  {
   "cell_type": "markdown",
   "metadata": {},
   "source": [
    "## Exercises\n",
    "\n",
    "- Calcuate the distance between each person/location/point and count the number of people within a given radius. Create a list with these 'neighbors'\n",
    "- Plot this list as a histogram. How does the histogram vary as we change the density of the population? How does it vary as we change the radius?"
   ]
  }
 ],
 "metadata": {
  "kernelspec": {
   "display_name": "Python 3",
   "language": "python",
   "name": "python3"
  },
  "language_info": {
   "codemirror_mode": {
    "name": "ipython",
    "version": 3
   },
   "file_extension": ".py",
   "mimetype": "text/x-python",
   "name": "python",
   "nbconvert_exporter": "python",
   "pygments_lexer": "ipython3",
   "version": "3.6.6"
  }
 },
 "nbformat": 4,
 "nbformat_minor": 4
}
